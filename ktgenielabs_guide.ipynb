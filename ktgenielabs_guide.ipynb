{
 "cells": [
  {
   "cell_type": "markdown",
   "id": "0ed6ed85",
   "metadata": {},
   "source": [
    "### AI API 사용 방법"
   ]
  },
  {
   "cell_type": "code",
   "execution_count": 1,
   "id": "a344e74c",
   "metadata": {},
   "outputs": [
    {
     "data": {
      "text/plain": [
       "True"
      ]
     },
     "execution_count": 1,
     "metadata": {},
     "output_type": "execute_result"
    }
   ],
   "source": [
    "import os\n",
    "from dotenv import load_dotenv\n",
    "load_dotenv() # load environment variables from .env file"
   ]
  },
  {
   "cell_type": "code",
   "execution_count": 2,
   "id": "738b6898",
   "metadata": {},
   "outputs": [],
   "source": [
    "client_id = os.environ[\"CLIENT_ID\"]\n",
    "client_key = os.environ[\"CLIENT_KEY\"]\n",
    "client_secret = os.environ[\"CLIENT_SECRET\"]"
   ]
  },
  {
   "cell_type": "code",
   "execution_count": 3,
   "id": "b257d3ff-ff6d-4591-9b37-b2e24f7b6542",
   "metadata": {},
   "outputs": [],
   "source": [
    "from datetime import datetime\n",
    "import hmac, hashlib\n",
    "\n",
    "# timestamp 생성\n",
    "timestamp = datetime.now().strftime(\"%Y%m%d%H%M%S%f\")[:-3] \n",
    "\n",
    "# HMAC 기반 signature 생성\n",
    "signature = hmac.new(\n",
    "      key=client_secret.encode(\"UTF-8\"), msg= f\"{client_id}:{timestamp}\".encode(\"UTF-8\"), digestmod=hashlib.sha256\n",
    "  ).hexdigest()"
   ]
  },
  {
   "cell_type": "markdown",
   "id": "f18aa004",
   "metadata": {},
   "source": [
    "### 긍부정 분류 API 가이드"
   ]
  },
  {
   "cell_type": "code",
   "execution_count": 4,
   "id": "75a1e911",
   "metadata": {},
   "outputs": [
    {
     "name": "stderr",
     "output_type": "stream",
     "text": [
      "/home/ubuntu/miniconda3/envs/myenv/lib/python3.9/site-packages/urllib3/connectionpool.py:1045: InsecureRequestWarning: Unverified HTTPS request is being made to host 'aiapi.genielabs.ai'. Adding certificate verification is strongly advised. See: https://urllib3.readthedocs.io/en/1.26.x/advanced-usage.html#ssl-warnings\n",
      "  warnings.warn(\n"
     ]
    },
    {
     "name": "stdout",
     "output_type": "stream",
     "text": [
      "{'code': 200, 'message': 'Success', 'input_token_count': 12, 'total_token_count': 12, 'result': {'emotion': 'positive', 'confidences': {'negative': 0.0685, 'positive': 0.928}, 'expressions': [{'start_offset': 0, 'length': 4}, {'start_offset': 5, 'length': 5}, {'start_offset': 11, 'length': 4}]}, 'text': '재미있게 잘봤습니다 후속편을 기다리게 만드네요'}\n"
     ]
    }
   ],
   "source": [
    "import json\n",
    "import requests\n",
    "url = \"https://aiapi.genielabs.ai/kt/nlp/sentiment-analysis\"\n",
    "\n",
    "headers = {\n",
    "    'x-client-key' : client_key, \n",
    "    'x-client-signature' : signature, \n",
    "    'x-auth-timestamp' : timestamp, \n",
    "    'Content-Type' : 'application/json', \n",
    "    'charset' : 'utf-8'\n",
    "}\n",
    "\n",
    "body = json.dumps({\"text\": \"재미있게 잘봤습니다 후속편을 기다리게 만드네요\", \"top_n\": 3}) \n",
    "response = requests.post(url, data=body, headers=headers, verify=False)\n",
    "if response.status_code == 200:\n",
    "    try:\n",
    "        print(response.json())\n",
    "    except json.decoder.JSONDecodeError:\n",
    "        print(f'json.decoder.JSONDecodeError occured.\\nresponse.text: \"{response.text}\"')\n",
    "else:\n",
    "    print(f\"response.status_code: {response.status_code}\\nresponse.text: {response.text}\")"
   ]
  },
  {
   "cell_type": "markdown",
   "id": "5b84d0a9",
   "metadata": {},
   "source": [
    "### 감정분류(화남 인지) API 가이드"
   ]
  },
  {
   "cell_type": "code",
   "execution_count": 5,
   "id": "5e0a8c1b-9a60-4028-8a96-4a33d6d41895",
   "metadata": {},
   "outputs": [
    {
     "name": "stderr",
     "output_type": "stream",
     "text": [
      "/home/ubuntu/miniconda3/envs/myenv/lib/python3.9/site-packages/urllib3/connectionpool.py:1045: InsecureRequestWarning: Unverified HTTPS request is being made to host 'aiapi.genielabs.ai'. Adding certificate verification is strongly advised. See: https://urllib3.readthedocs.io/en/1.26.x/advanced-usage.html#ssl-warnings\n",
      "  warnings.warn(\n"
     ]
    },
    {
     "name": "stdout",
     "output_type": "stream",
     "text": [
      "{'code': 200, 'message': 'Success', 'input_token_count': 12, 'total_token_count': 12, 'result': {'emotion': 'positive', 'confidences': {'negative': 0.0685, 'positive': 0.928}, 'expressions': [{'start_offset': 0, 'length': 4}, {'start_offset': 5, 'length': 5}, {'start_offset': 11, 'length': 4}]}, 'text': '재미있게 잘봤습니다 후속편을 기다리게 만드네요'}\n"
     ]
    }
   ],
   "source": [
    "import json\n",
    "import requests\n",
    "url = \"https://aiapi.genielabs.ai/kt/nlp/sentiment-analysis\"\n",
    "\n",
    "headers = {\n",
    "     \"x-client-key\":client_key,\n",
    "     \"x-client-signature\":signature,\n",
    "     \"x-auth-timestamp\": timestamp,\n",
    "     \"Content-Type\": \"application/json\",\n",
    "     \"charset\": \"utf-8\",\n",
    " }   \n",
    "body = json.dumps({\"text\": \"재미있게 잘봤습니다 후속편을 기다리게 만드네요\", \"top_n\": 3}) \n",
    "response = requests.post(url, data=body, headers=headers, verify=False)\n",
    "if response.status_code == 200:\n",
    "    try:\n",
    "        print(response.json())\n",
    "    except json.decoder.JSONDecodeError:\n",
    "        print(f'json.decoder.JSONDecodeError occured.\\nresponse.text: \"{response.text}\"')\n",
    "else:\n",
    "    print(f\"response.status_code: {response.status_code}\\nresponse.text: {response.text}\")"
   ]
  },
  {
   "cell_type": "markdown",
   "id": "3b7f2d93",
   "metadata": {},
   "source": [
    "### 사투리 스타일 변환 API"
   ]
  },
  {
   "cell_type": "code",
   "execution_count": 6,
   "id": "5ac7ab8b",
   "metadata": {},
   "outputs": [
    {
     "name": "stderr",
     "output_type": "stream",
     "text": [
      "/home/ubuntu/miniconda3/envs/myenv/lib/python3.9/site-packages/urllib3/connectionpool.py:1045: InsecureRequestWarning: Unverified HTTPS request is being made to host 'aiapi.genielabs.ai'. Adding certificate verification is strongly advised. See: https://urllib3.readthedocs.io/en/1.26.x/advanced-usage.html#ssl-warnings\n",
      "  warnings.warn(\n"
     ]
    },
    {
     "name": "stdout",
     "output_type": "stream",
     "text": [
      "{'code': 200, 'message': 'Success', 'text': '저는 운동하는 것을 좋아해요', 'prediction': '지는 운동하는 것을 좋아하는구만유', 'input_token_count': 10, 'completion_token_count': 10, 'total_token_count': 20}\n"
     ]
    }
   ],
   "source": [
    "import json\n",
    "import requests\n",
    "url = \"https://aiapi.genielabs.ai/kt/nlp/dialect\"\n",
    "headers = {\n",
    "     \"x-client-key\":client_key,\n",
    "     \"x-client-signature\":signature,\n",
    "     \"x-auth-timestamp\": timestamp,\n",
    "     \"Content-Type\": \"application/json\",\n",
    "     \"charset\": \"utf-8\",\n",
    " }   \n",
    "body = json.dumps({\"data\" : \"표준어|충청도|저는 운동하는 것을 좋아해요\"}) \n",
    "response = requests.post(url, data=body, headers=headers, verify=False)\n",
    "if response.status_code == 200:\n",
    "    try:\n",
    "        print(response.json())\n",
    "    except json.decoder.JSONDecodeError:\n",
    "        print(f'json.decoder.JSONDecodeError occured.\\nresponse.text: \"{response.text}\"')\n",
    "else:\n",
    "    print(f\"response.status_code: {response.status_code}\\nresponse.text: {response.text}\")"
   ]
  },
  {
   "cell_type": "markdown",
   "id": "376db307",
   "metadata": {},
   "source": [
    "### 구문분석 API"
   ]
  },
  {
   "cell_type": "code",
   "execution_count": 7,
   "id": "f3df8240",
   "metadata": {},
   "outputs": [
    {
     "name": "stderr",
     "output_type": "stream",
     "text": [
      "/home/ubuntu/miniconda3/envs/myenv/lib/python3.9/site-packages/urllib3/connectionpool.py:1045: InsecureRequestWarning: Unverified HTTPS request is being made to host 'aiapi.genielabs.ai'. Adding certificate verification is strongly advised. See: https://urllib3.readthedocs.io/en/1.26.x/advanced-usage.html#ssl-warnings\n",
      "  warnings.warn(\n"
     ]
    },
    {
     "name": "stdout",
     "output_type": "stream",
     "text": [
      "{'resultCode': '0000', 'resultMessage': 'Success', 'data': {'dependency': [{'INDEX': 1, 'WORD_FORM': '덕분에', 'HEAD': 5, 'DEPREL': 'NP_AJT'}, {'INDEX': 2, 'WORD_FORM': '우리', 'HEAD': 3, 'DEPREL': 'NP'}, {'INDEX': 3, 'WORD_FORM': '과학의', 'HEAD': 4, 'DEPREL': 'NP_MOD'}, {'INDEX': 4, 'WORD_FORM': '미래가', 'HEAD': 5, 'DEPREL': 'NP_SBJ'}, {'INDEX': 5, 'WORD_FORM': '밝습니다.', 'HEAD': 0, 'DEPREL': 'VP'}]}, 'input_token_count': 11, 'completion_token_count': 5, 'total_token_count': 16}\n"
     ]
    }
   ],
   "source": [
    "import json\n",
    "import requests\n",
    "url = \"https://aiapi.genielabs.ai/kt/nlp/syntax-analysis\"\n",
    "headers = {\n",
    "     \"x-client-key\":client_key,\n",
    "     \"x-client-signature\":signature,\n",
    "     \"x-auth-timestamp\": timestamp,\n",
    "     \"Content-Type\": \"application/json\",\n",
    "     \"charset\": \"utf-8\",\n",
    " }   \n",
    "body = json.dumps({\"data\":{\"src\" : \"덕분에 우리 과학의 미래가 밝습니다.\", \"srcType\" : \"T\"}}) \n",
    "response = requests.post(url, data=body, headers=headers, verify=False)\n",
    "if response.status_code == 200:\n",
    "    try:\n",
    "        print(response.json())\n",
    "    except json.decoder.JSONDecodeError:\n",
    "        print(f'json.decoder.JSONDecodeError occured.\\nresponse.text: \"{response.text}\"')\n",
    "else:\n",
    "    print(f\"response.status_code: {response.status_code}\\nresponse.text: {response.text}\")"
   ]
  },
  {
   "cell_type": "markdown",
   "id": "e2e9b2c5",
   "metadata": {},
   "source": [
    "### 의도 분류 API"
   ]
  },
  {
   "cell_type": "code",
   "execution_count": 8,
   "id": "963e6bd4",
   "metadata": {},
   "outputs": [
    {
     "name": "stdout",
     "output_type": "stream",
     "text": [
      "response.status_code: 404\n",
      "response.text: 404 page not found\n",
      "\n"
     ]
    },
    {
     "name": "stderr",
     "output_type": "stream",
     "text": [
      "/home/ubuntu/miniconda3/envs/myenv/lib/python3.9/site-packages/urllib3/connectionpool.py:1045: InsecureRequestWarning: Unverified HTTPS request is being made to host 'aiapi.genielabs.ai'. Adding certificate verification is strongly advised. See: https://urllib3.readthedocs.io/en/1.26.x/advanced-usage.html#ssl-warnings\n",
      "  warnings.warn(\n"
     ]
    }
   ],
   "source": [
    "import json\n",
    "import requests\n",
    "url = \"https://aiapi.genielabs.ai/kt/nlp/aicc-shinhan-nlp\"\n",
    "headers = {\n",
    "    'x-client-key' : client_key, \n",
    "    'x-client-signature' : signature, \n",
    "    'x-auth-timestamp' : timestamp, \n",
    "    'Content-Type' : 'application/json', \n",
    "    'charset' : 'utf-8'\n",
    "}  \n",
    "body = json.dumps({\"workspaceId\" : \"50345cfe-83d9-5448-9d5f-3880bfcc723c\", \"message\" : \"토비스 자사주 30억원 취득 결정\", \"intentLimit\":3 }) \n",
    "response = requests.post(url, data=body, headers=headers, verify=False)\n",
    "if response.status_code == 200:\n",
    "    try:\n",
    "        print(response.json())\n",
    "    except json.decoder.JSONDecodeError:\n",
    "        print(f'json.decoder.JSONDecodeError occured.\\nresponse.text: \"{response.text}\"')\n",
    "else:\n",
    "    print(f\"response.status_code: {response.status_code}\\nresponse.text: {response.text}\")"
   ]
  },
  {
   "cell_type": "markdown",
   "id": "b2062f52",
   "metadata": {},
   "source": [
    "### Paraphrasing API"
   ]
  },
  {
   "cell_type": "code",
   "execution_count": 9,
   "id": "fea115c4",
   "metadata": {},
   "outputs": [],
   "source": [
    "# import json\n",
    "# import requests\n",
    "# url = \"https://aiapi.genielabs.ai/kt/nlp/paraphrasing\"\n",
    "# headers = {\n",
    "#      \"x-client-key\":client_key,\n",
    "#      \"x-client-signature\":signature,\n",
    "#      \"x-auth-timestamp\": timestamp,\n",
    "#      \"Content-Type\": \"application/json\",\n",
    "#      \"charset\": \"utf-8\",\n",
    "#  }   \n",
    "# body = json.dumps({\"user_id\" : client_id, \"ret_sentences\" : 3, \"diversity\": \"1\", \"domain\": \"1\",\n",
    "#  \"data\": [\"숙소가 가깝고, 지하철을 타기 편합니다.\", \"좋은 아침입니다. 행복한 하루 되세요~\"]}) \n",
    "# response = requests.post(url, data=body, headers=headers, verify=False)\n",
    "# if response.status_code == 200:\n",
    "#     try:\n",
    "#         print(response.json())\n",
    "#     except json.decoder.JSONDecodeError:\n",
    "#         print(f'json.decoder.JSONDecodeError occured.\\nresponse.text: \"{response.text}\"')\n",
    "# else:\n",
    "#     print(f\"response.status_code: {response.status_code}\\nresponse.text: {response.text}\")"
   ]
  },
  {
   "cell_type": "markdown",
   "id": "0504cfab",
   "metadata": {},
   "source": [
    "### 상담대화 요약 API"
   ]
  },
  {
   "cell_type": "code",
   "execution_count": 10,
   "id": "c12a8414",
   "metadata": {},
   "outputs": [
    {
     "name": "stderr",
     "output_type": "stream",
     "text": [
      "/home/ubuntu/miniconda3/envs/myenv/lib/python3.9/site-packages/urllib3/connectionpool.py:1045: InsecureRequestWarning: Unverified HTTPS request is being made to host 'aiapi.genielabs.ai'. Adding certificate verification is strongly advised. See: https://urllib3.readthedocs.io/en/1.26.x/advanced-usage.html#ssl-warnings\n",
      "  warnings.warn(\n"
     ]
    },
    {
     "name": "stdout",
     "output_type": "stream",
     "text": [
      "{'code': 200, 'message': 'Success', 'input_token_count': 38, 'completion_token_count': 19, 'total_token_count': 57, 'result': {'summary': '팩스로 발송을 요청하여 팩스 번호를 안내했다.'}, 'text': '고객:예 그렇게 해주세요 상담사:그럼 고객님 현재 팩스 또는 메일로 받아보실 수가 있고요 어느 방법이 편리하십니까 고객:팩스로 보내주시고요'}\n"
     ]
    }
   ],
   "source": [
    "import json\n",
    "import requests\n",
    "url = \"https://aiapi.genielabs.ai/kt/nlp/summarize-consulting\"\n",
    "headers = {\n",
    "    'x-client-key' : client_key, \n",
    "    'x-client-signature' : signature, \n",
    "    'x-auth-timestamp' : timestamp, \n",
    "    'Content-Type' : 'application/json', \n",
    "    'charset' : 'utf-8'\n",
    "}  \n",
    "body = json.dumps({\"text\" : \"고객:예 그렇게 해주세요 상담사:그럼 고객님 현재 팩스 또는 메일로 받아보실 수가 있고요 어느 방법이 편리하십니까 고객:팩스로 보내주시고요\", \"beam_size\" : 3}) \n",
    "response = requests.post(url, data=body, headers=headers, verify=False)\n",
    "if response.status_code == 200:\n",
    "    try:\n",
    "        print(response.json())\n",
    "    except json.decoder.JSONDecodeError:\n",
    "        print(f'json.decoder.JSONDecodeError occured.\\nresponse.text: \"{response.text}\"')\n",
    "else:\n",
    "    print(f\"response.status_code: {response.status_code}\\nresponse.text: {response.text}\")"
   ]
  },
  {
   "cell_type": "markdown",
   "id": "b40c9fa4",
   "metadata": {},
   "source": [
    "### 문학작품 요약 API"
   ]
  },
  {
   "cell_type": "code",
   "execution_count": 11,
   "id": "a70db2b0",
   "metadata": {},
   "outputs": [
    {
     "name": "stderr",
     "output_type": "stream",
     "text": [
      "/home/ubuntu/miniconda3/envs/myenv/lib/python3.9/site-packages/urllib3/connectionpool.py:1045: InsecureRequestWarning: Unverified HTTPS request is being made to host 'aiapi.genielabs.ai'. Adding certificate verification is strongly advised. See: https://urllib3.readthedocs.io/en/1.26.x/advanced-usage.html#ssl-warnings\n",
      "  warnings.warn(\n"
     ]
    },
    {
     "name": "stdout",
     "output_type": "stream",
     "text": [
      "{'code': 200, 'message': 'Success', 'input_token_count': 460, 'completion_token_count': 51, 'total_token_count': 511, 'result': {'summary': '상호는 요릿집을 차리고 단원들의 소굴로 통하는 땅속 길을 파놓고 드나드는 흉악한 놈들을 생각할 때마다 새로이 무서운 것을 느꼈다'}, 'text': \"삼층이나 올라와 보니, 그제야 거기가 땅 위였습니다. 좁다란 복도를 지나 고 조그만 방을 셋이나 지나서니까, 거기는 길가 널따란 방이 술청으로 되어 십여 개 따로따로 떨어져 놓여 있는 식탁에 여기저기 서너 명씩 손님이 둘러않아서 술을 먹고 있었습니다. 이 흉악한 놈들이 겉으로는 이렇게 천연스럽게 요릿집을 꾸며서 장사를 하면서 속으로는 단원들의 소굴로 통하는 땅속 길을 파놓고 드나 드는구나! 생각할 때에 상호는 새로이 무서운 것을 느끼었습니다. 그러나 지금의 상호는 순자를 만나는 것, 만나서 뺏어가지고 도망할 것 외 에는 아무것도 생각하는 것이 없었습니다. 어째야 할꼬? 어째야 할꼬? 하면서 무심히 중국 놈의 뒤를 따라가는 상호는 앞서 나가던 중국 놈이 벌써 문 밖의 한길에까지 나갔건마는 고개를 숙이고 생각에 골몰하느라고 걸음걸이에는 정신이 없었습니다. 그때 별안간에 상호의 지나가는 옆에 상에 혼자 앉았던 손님이 한 발을 쑥 내밀자, 상호는 그 발에 걸리어 엎드러질 뻔하였습니다. '앗, 이거 실례하였습니다.' 앉았던 손님이 벌떡 일어나더니 사과의 말을 하면서 엎드러질 뻔한 상호의 손을 잡았습니다. 그리고 극히 작은 소리로 '나요, 나요.' 하고 급하게 속살거렸습니다. 상호가 보니까 천만 뜻밖에 그는 기호였습니다. '웬일이오?' 하고, 기쁜 김에 손을 흔들며 물으니까, '앉으시오. 크게 말 말고 여기 앉으시오.' 하고, 기호는 눈짓을 하여 상호를 그 식탁 앞에 않이었습니다.\"}\n"
     ]
    }
   ],
   "source": [
    "import requests\n",
    "url = \"https://aiapi.genielabs.ai/kt/nlp/summarize-literature\"\n",
    "headers = {\n",
    "    'x-client-key' : client_key, \n",
    "    'x-client-signature' : signature, \n",
    "    'x-auth-timestamp' : timestamp, \n",
    "    'Content-Type' : 'application/json', \n",
    "    'charset' : 'utf-8'\n",
    "}    \n",
    "body = json.dumps({\"text\" : \"삼층이나 올라와 보니, 그제야 거기가 땅 위였습니다. 좁다란 복도를 지나 고 조그만 방을 셋이나 지나서니까, 거기는 길가 널따란 방이 술청으로 되어 십여 개 따로따로 떨어져 놓여 있는 식탁에 여기저기 서너 명씩 손님이 둘러않아서 술을 먹고 있었습니다. 이 흉악한 놈들이 겉으로는 이렇게 천연스럽게 요릿집을 꾸며서 장사를 하면서 속으로는 단원들의 소굴로 통하는 땅속 길을 파놓고 드나 드는구나! 생각할 때에 상호는 새로이 무서운 것을 느끼었습니다. 그러나 지금의 상호는 순자를 만나는 것, 만나서 뺏어가지고 도망할 것 외 에는 아무것도 생각하는 것이 없었습니다. 어째야 할꼬? 어째야 할꼬? 하면서 무심히 중국 놈의 뒤를 따라가는 상호는 앞서 나가던 중국 놈이 벌써 문 밖의 한길에까지 나갔건마는 고개를 숙이고 생각에 골몰하느라고 걸음걸이에는 정신이 없었습니다. 그때 별안간에 상호의 지나가는 옆에 상에 혼자 앉았던 손님이 한 발을 쑥 내밀자, 상호는 그 발에 걸리어 엎드러질 뻔하였습니다. '앗, 이거 실례하였습니다.' 앉았던 손님이 벌떡 일어나더니 사과의 말을 하면서 엎드러질 뻔한 상호의 손을 잡았습니다. 그리고 극히 작은 소리로 '나요, 나요.' 하고 급하게 속살거렸습니다. 상호가 보니까 천만 뜻밖에 그는 기호였습니다. '웬일이오?' 하고, 기쁜 김에 손을 흔들며 물으니까, '앉으시오. 크게 말 말고 여기 앉으시오.' 하고, 기호는 눈짓을 하여 상호를 그 식탁 앞에 않이었습니다.\", \"beam_size\" : 3}) \n",
    "response = requests.post(url, data=body, headers=headers, verify=False)\n",
    "if response.status_code == 200:\n",
    "    try:\n",
    "        print(response.json())\n",
    "    except json.decoder.JSONDecodeError:\n",
    "        print(f'json.decoder.JSONDecodeError occured.\\nresponse.text: \"{response.text}\"')\n",
    "else:\n",
    "    print(f\"response.status_code: {response.status_code}\\nresponse.text: {response.text}\")"
   ]
  },
  {
   "cell_type": "markdown",
   "id": "aea3e156",
   "metadata": {},
   "source": [
    "### 뉴스 요약 API"
   ]
  },
  {
   "cell_type": "code",
   "execution_count": 12,
   "id": "c51d2c0c",
   "metadata": {},
   "outputs": [
    {
     "name": "stderr",
     "output_type": "stream",
     "text": [
      "/home/ubuntu/miniconda3/envs/myenv/lib/python3.9/site-packages/urllib3/connectionpool.py:1045: InsecureRequestWarning: Unverified HTTPS request is being made to host 'aiapi.genielabs.ai'. Adding certificate verification is strongly advised. See: https://urllib3.readthedocs.io/en/1.26.x/advanced-usage.html#ssl-warnings\n",
      "  warnings.warn(\n"
     ]
    },
    {
     "name": "stdout",
     "output_type": "stream",
     "text": [
      "{'code': 200, 'message': 'Success', 'input_token_count': 286, 'completion_token_count': 72, 'total_token_count': 358, 'result': {'summary': '대구,경북혈액원은 17일 북구 상원동에서 이강덕 포항시장을 비롯해 조남선 혈액 관리본부장, 이건문 대구,경북혈액원장, 류시문 대한적십자사 경북지사 회장 등이 참석한 가운데 헌혈의 집 포항센터 이전 개소식을 개최했다.'}, 'text': '대구,경북혈액원은 17일 북구 상원동에서 헌혈의 집 포항센터 이전 개소식을 개최했다. 이날 이전 개소식에는 이강덕 포항시장을 비롯해 조남선 혈액 관리본부장, 이건문 대구,경북혈액원장, 류시문 대한적십자사 경북지사 회장 등이 참석해 행사를 함께 축하했다. 수혈이 필요한 환자들의 건강과 생명을 보호할 수 있는 수혈 체제는 오직 헌랄을 통해서만 얻을 수 있으며, 현재 우리나라는 다른 나라에 비해 급속한 저출산, 고령화로 인해 헌혈자는 지속해서 감소하는 반면 수혈자는 계속 증가하고 있다. 이번 이전 개소로 생명을 살리는 헌혈에 참여하는 시민의 편의를 증대하고, 접근성 향상과 시설 내 노후장비 교체로 안정성이 제고돼 많은 시민이 헌혈에 참여할 것으로 기대된다. 이강덕 시장은 전 연령층이 헌혈에 자발적으로 동참할 수 있도록 헌혈 참여 문화의 기반을 조성하고 인프라를 개선할 뿐만 아니라 코로나 19로부터 안전한 환경을 조상하는 등 활성화를 위해 최선을 다하겠다고 말했다.'}\n"
     ]
    }
   ],
   "source": [
    "import json\n",
    "import requests\n",
    "url = \"https://aiapi.genielabs.ai/kt/nlp/summarize-news\"\n",
    "headers = {\n",
    "    'x-client-key' : client_key, \n",
    "    'x-client-signature' : signature, \n",
    "    'x-auth-timestamp' : timestamp, \n",
    "    'Content-Type' : 'application/json', \n",
    "    'charset' : 'utf-8'\n",
    "}     \n",
    "body = json.dumps({\"text\" : \"대구,경북혈액원은 17일 북구 상원동에서 헌혈의 집 포항센터 이전 개소식을 개최했다. 이날 이전 개소식에는 이강덕 포항시장을 비롯해 조남선 혈액 관리본부장, 이건문 대구,경북혈액원장, 류시문 대한적십자사 경북지사 회장 등이 참석해 행사를 함께 축하했다. 수혈이 필요한 환자들의 건강과 생명을 보호할 수 있는 수혈 체제는 오직 헌랄을 통해서만 얻을 수 있으며, 현재 우리나라는 다른 나라에 비해 급속한 저출산, 고령화로 인해 헌혈자는 지속해서 감소하는 반면 수혈자는 계속 증가하고 있다. 이번 이전 개소로 생명을 살리는 헌혈에 참여하는 시민의 편의를 증대하고, 접근성 향상과 시설 내 노후장비 교체로 안정성이 제고돼 많은 시민이 헌혈에 참여할 것으로 기대된다. 이강덕 시장은 전 연령층이 헌혈에 자발적으로 동참할 수 있도록 헌혈 참여 문화의 기반을 조성하고 인프라를 개선할 뿐만 아니라 코로나 19로부터 안전한 환경을 조상하는 등 활성화를 위해 최선을 다하겠다고 말했다.\", \"beam_size\" : 3}) \n",
    "response = requests.post(url, data=body, headers=headers, verify=False)\n",
    "if response.status_code == 200:\n",
    "    try:\n",
    "        print(response.json())\n",
    "    except json.decoder.JSONDecodeError:\n",
    "        print(f'json.decoder.JSONDecodeError occured.\\nresponse.text: \"{response.text}\"')\n",
    "else:\n",
    "    print(f\"response.status_code: {response.status_code}\\nresponse.text: {response.text}\")"
   ]
  },
  {
   "cell_type": "markdown",
   "id": "1d29286f",
   "metadata": {},
   "source": [
    "### 문법교정 API"
   ]
  },
  {
   "cell_type": "code",
   "execution_count": 13,
   "id": "02021bfa",
   "metadata": {},
   "outputs": [
    {
     "name": "stderr",
     "output_type": "stream",
     "text": [
      "/home/ubuntu/miniconda3/envs/myenv/lib/python3.9/site-packages/urllib3/connectionpool.py:1045: InsecureRequestWarning: Unverified HTTPS request is being made to host 'aiapi.genielabs.ai'. Adding certificate verification is strongly advised. See: https://urllib3.readthedocs.io/en/1.26.x/advanced-usage.html#ssl-warnings\n",
      "  warnings.warn(\n"
     ]
    },
    {
     "name": "stdout",
     "output_type": "stream",
     "text": [
      "{'code': 200, 'message': 'Success', 'resultCnt': 3, 'input_token_count': 17, 'completion_token_count': 19, 'total_token_count': 36, 'result': {'correction': ['영어 회화를 공부해 보고 싶은데,', '해운대 아쿠아리움.', '안녕?']}, 'text': ['영어회화를 공부 해 보고 싶은데', '해운대아쿠아리움', '안뇽']}\n"
     ]
    }
   ],
   "source": [
    "import json\n",
    "import requests\n",
    "url = \"https://aiapi.genielabs.ai/kt/nlp/grammar-checker\"\n",
    "headers = {\n",
    "    'x-client-key' : client_key, \n",
    "    'x-client-signature' : signature, \n",
    "    'x-auth-timestamp' : timestamp, \n",
    "    'Content-Type' : 'application/json', \n",
    "    'charset' : 'utf-8'\n",
    "}   \n",
    "body = json.dumps({\"text\" : [\"영어회화를 공부 해 보고 싶은데\", \"해운대아쿠아리움\", \"안뇽\"]}) \n",
    "response = requests.post(url, data=body, headers=headers, verify=False)\n",
    "if response.status_code == 200:\n",
    "    try:\n",
    "        print(response.json())\n",
    "    except json.decoder.JSONDecodeError:\n",
    "        print(f'json.decoder.JSONDecodeError occured.\\nresponse.text: \"{response.text}\"')\n",
    "else:\n",
    "    print(f\"response.status_code: {response.status_code}\\nresponse.text: {response.text}\")"
   ]
  },
  {
   "cell_type": "markdown",
   "id": "f74f8ed1",
   "metadata": {},
   "source": [
    "### 개체명 인식 API"
   ]
  },
  {
   "cell_type": "code",
   "execution_count": null,
   "id": "0cc8d840",
   "metadata": {},
   "outputs": [],
   "source": [
    "# import json\n",
    "# import requests\n",
    "# url = \"https://aiapi.genielabs.ai/kt/nlp/named-entity-recognition\"\n",
    "# headers = {\n",
    "#     'x-client-key' : client_key, \n",
    "#     'x-client-signature' : signature, \n",
    "#     'x-auth-timestamp' : timestamp, \n",
    "#     'Content-Type' : 'application/json', \n",
    "#     'charset' : 'utf-8'\n",
    "# }     \n",
    "# body = json.dumps({\"text\" : \"영어회화를 공부 해 보고 싶은데\"}) \n",
    "# response = requests.post(url, data=body, headers=headers, verify=False)\n",
    "# if response.status_code == 200:\n",
    "#     try:\n",
    "#         print(response.json())\n",
    "#     except json.decoder.JSONDecodeError:\n",
    "#         print(f'json.decoder.JSONDecodeError occured.\\nresponse.text: \"{response.text}\"')\n",
    "# else:\n",
    "#     print(f\"response.status_code: {response.status_code}\\nresponse.text: {response.text}\")"
   ]
  }
 ],
 "metadata": {
  "kernelspec": {
   "display_name": "Python 3 (ipykernel)",
   "language": "python",
   "name": "python3"
  },
  "language_info": {
   "codemirror_mode": {
    "name": "ipython",
    "version": 3
   },
   "file_extension": ".py",
   "mimetype": "text/x-python",
   "name": "python",
   "nbconvert_exporter": "python",
   "pygments_lexer": "ipython3",
   "version": "3.9.16"
  }
 },
 "nbformat": 4,
 "nbformat_minor": 5
}
