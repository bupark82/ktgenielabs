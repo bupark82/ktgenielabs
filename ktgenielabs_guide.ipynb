{
 "cells": [
  {
   "cell_type": "code",
   "execution_count": 1,
   "id": "a344e74c",
   "metadata": {},
   "outputs": [
    {
     "data": {
      "text/plain": [
       "True"
      ]
     },
     "execution_count": 1,
     "metadata": {},
     "output_type": "execute_result"
    }
   ],
   "source": [
    "import os\n",
    "from dotenv import load_dotenv\n",
    "load_dotenv() # load environment variables from .env file"
   ]
  },
  {
   "cell_type": "code",
   "execution_count": 2,
   "id": "738b6898",
   "metadata": {},
   "outputs": [],
   "source": [
    "client_id = os.environ[\"CLIENT_ID\"]\n",
    "client_key = os.environ[\"CLIENT_KEY\"]\n",
    "client_secret = os.environ[\"CLIENT_SECRET\"]"
   ]
  },
  {
   "cell_type": "code",
   "execution_count": 3,
   "id": "b257d3ff-ff6d-4591-9b37-b2e24f7b6542",
   "metadata": {},
   "outputs": [],
   "source": [
    "from datetime import datetime\n",
    "import hmac, hashlib\n",
    "\n",
    "# timestamp 생성\n",
    "timestamp = datetime.now().strftime(\"%Y%m%d%H%M%S%f\")[:-3] \n",
    "\n",
    "# HMAC 기반 signature 생성\n",
    "signature = hmac.new(\n",
    "      key=client_secret.encode(\"UTF-8\"), msg= f\"{client_id}:{timestamp}\".encode(\"UTF-8\"), digestmod=hashlib.sha256\n",
    "  ).hexdigest()"
   ]
  },
  {
   "cell_type": "code",
   "execution_count": 4,
   "id": "5e0a8c1b-9a60-4028-8a96-4a33d6d41895",
   "metadata": {},
   "outputs": [
    {
     "name": "stderr",
     "output_type": "stream",
     "text": [
      "/home/ubuntu/miniconda3/envs/myenv/lib/python3.9/site-packages/urllib3/connectionpool.py:1045: InsecureRequestWarning: Unverified HTTPS request is being made to host 'aiapi.genielabs.ai'. Adding certificate verification is strongly advised. See: https://urllib3.readthedocs.io/en/1.26.x/advanced-usage.html#ssl-warnings\n",
      "  warnings.warn(\n"
     ]
    },
    {
     "name": "stdout",
     "output_type": "stream",
     "text": [
      "{'code': 200, 'message': 'Success', 'input_token_count': 12, 'total_token_count': 12, 'result': {'emotion': 'positive', 'confidences': {'negative': 0.0685, 'positive': 0.928}, 'expressions': [{'start_offset': 0, 'length': 4}, {'start_offset': 5, 'length': 5}, {'start_offset': 11, 'length': 4}]}, 'text': '재미있게 잘봤습니다 후속편을 기다리게 만드네요'}\n"
     ]
    }
   ],
   "source": [
    "import json\n",
    "import requests\n",
    "url = \"https://aiapi.genielabs.ai/kt/nlp/sentiment-analysis\"\n",
    "\n",
    "headers = {\n",
    "     \"x-client-key\":client_key,\n",
    "     \"x-client-signature\":signature,\n",
    "     \"x-auth-timestamp\": timestamp,\n",
    "     \"Content-Type\": \"application/json\",\n",
    "     \"charset\": \"utf-8\",\n",
    " }   \n",
    "body = json.dumps({\"text\": \"재미있게 잘봤습니다 후속편을 기다리게 만드네요\", \"top_n\": 3}) \n",
    "response = requests.post(url, data=body, headers=headers, verify=False)\n",
    "if response.status_code == 200:\n",
    "    try:\n",
    "        print(response.json())\n",
    "    except json.decoder.JSONDecodeError:\n",
    "        print(f'json.decoder.JSONDecodeError occured.\\nresponse.text: \"{response.text}\"')\n",
    "else:\n",
    "    print(f\"response.status_code: {response.status_code}\\nresponse.text: {response.text}\")"
   ]
  }
 ],
 "metadata": {
  "kernelspec": {
   "display_name": "Python 3 (ipykernel)",
   "language": "python",
   "name": "python3"
  },
  "language_info": {
   "codemirror_mode": {
    "name": "ipython",
    "version": 3
   },
   "file_extension": ".py",
   "mimetype": "text/x-python",
   "name": "python",
   "nbconvert_exporter": "python",
   "pygments_lexer": "ipython3",
   "version": "3.9.16"
  }
 },
 "nbformat": 4,
 "nbformat_minor": 5
}
